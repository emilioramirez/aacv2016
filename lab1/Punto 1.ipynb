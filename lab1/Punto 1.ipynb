{
 "cells": [
  {
   "cell_type": "markdown",
   "metadata": {},
   "source": [
    "# Punto 1\n",
    "\n",
    "## Generar train y test"
   ]
  },
  {
   "cell_type": "code",
   "execution_count": 1,
   "metadata": {
    "collapsed": false
   },
   "outputs": [],
   "source": [
    "import numpy as np\n",
    "from os.path import join, splitext\n",
    "from lab1 import load_data, n_per_class_split, load_scene_categories, split_into_X_y\n",
    "\n",
    "# load dataset\n",
    "dataset = load_scene_categories('scene_categories')\n",
    "\n",
    "train_set, test_set = n_per_class_split(dataset, n=100)\n",
    "\n",
    "# setup training data\n",
    "X_train, y_train = split_into_X_y(train_set)"
   ]
  },
  {
   "cell_type": "code",
   "execution_count": 2,
   "metadata": {
    "collapsed": false
   },
   "outputs": [
    {
     "name": "stdout",
     "output_type": "stream",
     "text": [
      "defaultdict(<class 'list'>, {0.1: [0.55, 0.5733333333333334, 0.5966666666666667, 0.5766666666666667, 0.5766666666666667], 1.0: [0.6033333333333334, 0.6566666666666666, 0.6633333333333333, 0.6633333333333333, 0.65], 10.0: [0.62, 0.6433333333333333, 0.6366666666666667, 0.6533333333333333, 0.6566666666666666], 0.01: [0.47, 0.4266666666666667, 0.48333333333333334, 0.4266666666666667, 0.4766666666666667], 100: [0.5933333333333334, 0.6233333333333333, 0.6133333333333333, 0.6133333333333333, 0.6133333333333333]})\n"
     ]
    }
   ],
   "source": [
    "from utils import cross_validation\n",
    "image_data = cross_validation(X_train, y_train)\n",
    "\n",
    "print(image_data)"
   ]
  },
  {
   "cell_type": "code",
   "execution_count": 4,
   "metadata": {
    "collapsed": false
   },
   "outputs": [
    {
     "name": "stdout",
     "output_type": "stream",
     "text": [
      "0.1 [0.55, 0.5733333333333334, 0.5966666666666667, 0.5766666666666667, 0.5766666666666667]\n",
      "1.0 [0.6033333333333334, 0.6566666666666666, 0.6633333333333333, 0.6633333333333333, 0.65]\n",
      "10.0 [0.62, 0.6433333333333333, 0.6366666666666667, 0.6533333333333333, 0.6566666666666666]\n",
      "0.01 [0.47, 0.4266666666666667, 0.48333333333333334, 0.4266666666666667, 0.4766666666666667]\n",
      "100 [0.5933333333333334, 0.6233333333333333, 0.6133333333333333, 0.6133333333333333, 0.6133333333333333]\n"
     ]
    },
    {
     "name": "stderr",
     "output_type": "stream",
     "text": [
      "/home/emilio/.virtualenvs/aacv/lib/python3.4/site-packages/matplotlib/axis.py:1017: UserWarning: Unable to find pixel distance along axis for interval padding of ticks; assuming no interval padding needed.\n",
      "  warnings.warn(\"Unable to find pixel distance along axis \"\n",
      "/home/emilio/.virtualenvs/aacv/lib/python3.4/site-packages/matplotlib/axis.py:1027: UserWarning: Unable to find pixel distance along axis for interval padding of ticks; assuming no interval padding needed.\n",
      "  warnings.warn(\"Unable to find pixel distance along axis \"\n"
     ]
    },
    {
     "data": {
      "image/png": "[encoded data removed]",
      "text/plain": [
       "<matplotlib.figure.Figure at 0x7fd3cca468d0>"
      ]
     },
     "metadata": {},
     "output_type": "display_data"
    }
   ],
   "source": [
    "\"\"\"\n",
    "from bokeh.plotting import figure, output_notebook, show\n",
    "\n",
    "output_notebook()\n",
    "p = figure(title=\"simple line example\", x_axis_label='accuracy', y_axis_label='C')\n",
    "\n",
    "Cs = list(data.keys())\n",
    "for C, values in data.items():\n",
    "    print(\"hola\", Cs, values)\n",
    "    p.circle(Cs, values, legend=\"Temp.\", line_width=2)\n",
    "\n",
    "# show the results\n",
    "show(p)\n",
    "\"\"\"\n",
    "%matplotlib inline\n",
    "import matplotlib.pyplot as plt\n",
    "\n",
    "Cs = []\n",
    "c_matrix = []\n",
    "for C, values in image_data.items():\n",
    "    print(C, values)\n",
    "    Cs.append(C)\n",
    "    c_matrix.append(values)\n",
    "\n",
    "c_matrix = np.array(c_matrix)\n",
    "\n",
    "for i, c in enumerate(Cs):\n",
    "    #print(i, c, c_matrix[:, i])\n",
    "    plt.plot(Cs, c_matrix[:, i], 'ro')\n",
    "    plt.xscale('log')\n",
    "    plt.axis([0.01, 100, 0, 1])\n",
    "plt.show()"
   ]
  },
  {
   "cell_type": "code",
   "execution_count": 5,
   "metadata": {
    "collapsed": false
   },
   "outputs": [
    {
     "name": "stdout",
     "output_type": "stream",
     "text": [
      "[0.6452261306532663, 0.6485762144053602, 0.6505862646566164, 0.6572864321608041, 0.6402010050251257]\n"
     ]
    }
   ],
   "source": [
    "from utils import calculate_accuracy\n",
    "\n",
    "# load dataset\n",
    "dataset = load_scene_categories('scene_categories')\n",
    "\n",
    "ACC = []\n",
    "for loop in range(5):\n",
    "    train_set, test_set = n_per_class_split(dataset, n=100)\n",
    "\n",
    "    # setup training data\n",
    "    X_train, y_train = split_into_X_y(train_set)\n",
    "    X_test, y_test = split_into_X_y(test_set)\n",
    "    ACC.append(calculate_accuracy(X_train, X_test, y_train, y_test, C=10))\n",
    "print(ACC)\n",
    "    "
   ]
  },
  {
   "cell_type": "code",
   "execution_count": 7,
   "metadata": {
    "collapsed": false
   },
   "outputs": [
    {
     "name": "stdout",
     "output_type": "stream",
     "text": [
      "Mean: 0.64837520938\n",
      "Std: 0.00567579727559\n"
     ]
    }
   ],
   "source": [
    "acc_np = np.array(ACC)\n",
    "print(\"Mean:\", acc_np.mean())\n",
    "print(\"Std:\", acc_np.std())"
   ]
  },
  {
   "cell_type": "code",
   "execution_count": null,
   "metadata": {
    "collapsed": true
   },
   "outputs": [],
   "source": []
  }
 ],
 "metadata": {
  "kernelspec": {
   "display_name": "Python 3",
   "language": "python",
   "name": "python3"
  },
  "language_info": {
   "codemirror_mode": {
    "name": "ipython",
    "version": 3
   },
   "file_extension": ".py",
   "mimetype": "text/x-python",
   "name": "python",
   "nbconvert_exporter": "python",
   "pygments_lexer": "ipython3",
   "version": "3.4.3"
  }
 },
 "nbformat": 4,
 "nbformat_minor": 1
}
