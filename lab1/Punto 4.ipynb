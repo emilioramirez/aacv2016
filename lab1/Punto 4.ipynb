{
 "cells": [
  {
   "cell_type": "code",
   "execution_count": 2,
   "metadata": {
    "collapsed": false
   },
   "outputs": [
    {
     "name": "stdout",
     "output_type": "stream",
     "text": [
      "{0.1: [0.31333333333333335, 0.28, 0.36, 0.3433333333333333, 0.38666666666666666], 1.0: [0.5433333333333333, 0.56, 0.5433333333333333, 0.6066666666666667, 0.61], 100.0: [0.5966666666666667, 0.5833333333333334, 0.5733333333333334, 0.58, 0.6266666666666667], 1000.0: [0.04666666666666667, 0.07, 0.03666666666666667, 0.07, 0.08666666666666667], 10.0: [0.62, 0.6233333333333333, 0.62, 0.64, 0.6266666666666667], 0.01: [0.1, 0.12333333333333334, 0.09333333333333334, 0.11666666666666667, 0.15333333333333332], 0.001: [0.04, 0.04, 0.023333333333333334, 0.08, 0.08666666666666667]}\n"
     ]
    }
   ],
   "source": [
    "image_data = {0.1: [0.31333333333333335, 0.28, 0.36, 0.3433333333333333, 0.38666666666666666], 1.0: [0.5433333333333333, 0.56, 0.5433333333333333, 0.6066666666666667, 0.61], 100.0: [0.5966666666666667, 0.5833333333333334, 0.5733333333333334, 0.58, 0.6266666666666667], 1000.0: [0.04666666666666667, 0.07, 0.03666666666666667, 0.07, 0.08666666666666667], 10.0: [0.62, 0.6233333333333333, 0.62, 0.64, 0.6266666666666667], 0.01: [0.1, 0.12333333333333334, 0.09333333333333334, 0.11666666666666667, 0.15333333333333332], 0.001: [0.04, 0.04, 0.023333333333333334, 0.08, 0.08666666666666667]}\n",
    "\n",
    "print(image_data)"
   ]
  },
  {
   "cell_type": "code",
   "execution_count": 4,
   "metadata": {
    "collapsed": false
   },
   "outputs": [
    {
     "name": "stdout",
     "output_type": "stream",
     "text": [
      "0.1 [0.31333333333333335, 0.28, 0.36, 0.3433333333333333, 0.38666666666666666]\n",
      "1.0 [0.5433333333333333, 0.56, 0.5433333333333333, 0.6066666666666667, 0.61]\n",
      "100.0 [0.5966666666666667, 0.5833333333333334, 0.5733333333333334, 0.58, 0.6266666666666667]\n",
      "1000.0 [0.04666666666666667, 0.07, 0.03666666666666667, 0.07, 0.08666666666666667]\n",
      "10.0 [0.62, 0.6233333333333333, 0.62, 0.64, 0.6266666666666667]\n",
      "0.01 [0.1, 0.12333333333333334, 0.09333333333333334, 0.11666666666666667, 0.15333333333333332]\n",
      "0.001 [0.04, 0.04, 0.023333333333333334, 0.08, 0.08666666666666667]\n"
     ]
    },
    {
     "ename": "IndexError",
     "evalue": "index 5 is out of bounds for axis 1 with size 5",
     "output_type": "error",
     "traceback": [
      "\u001b[0;31m---------------------------------------------------------------------------\u001b[0m",
      "\u001b[0;31mIndexError\u001b[0m                                Traceback (most recent call last)",
      "\u001b[0;32m<ipython-input-4-88b26471db06>\u001b[0m in \u001b[0;36m<module>\u001b[0;34m()\u001b[0m\n\u001b[1;32m     28\u001b[0m \u001b[0;32mfor\u001b[0m \u001b[0mi\u001b[0m\u001b[0;34m,\u001b[0m \u001b[0mc\u001b[0m \u001b[0;32min\u001b[0m \u001b[0menumerate\u001b[0m\u001b[0;34m(\u001b[0m\u001b[0mCs\u001b[0m\u001b[0;34m)\u001b[0m\u001b[0;34m:\u001b[0m\u001b[0;34m\u001b[0m\u001b[0m\n\u001b[1;32m     29\u001b[0m     \u001b[0;31m#print(i, c, c_matrix[:, i])\u001b[0m\u001b[0;34m\u001b[0m\u001b[0;34m\u001b[0m\u001b[0m\n\u001b[0;32m---> 30\u001b[0;31m     \u001b[0mplt\u001b[0m\u001b[0;34m.\u001b[0m\u001b[0mplot\u001b[0m\u001b[0;34m(\u001b[0m\u001b[0mCs\u001b[0m\u001b[0;34m,\u001b[0m \u001b[0mc_matrix\u001b[0m\u001b[0;34m[\u001b[0m\u001b[0;34m:\u001b[0m\u001b[0;34m,\u001b[0m \u001b[0mi\u001b[0m\u001b[0;34m]\u001b[0m\u001b[0;34m,\u001b[0m \u001b[0;34m'ro'\u001b[0m\u001b[0;34m)\u001b[0m\u001b[0;34m\u001b[0m\u001b[0m\n\u001b[0m\u001b[1;32m     31\u001b[0m     \u001b[0mplt\u001b[0m\u001b[0;34m.\u001b[0m\u001b[0mxscale\u001b[0m\u001b[0;34m(\u001b[0m\u001b[0;34m'log'\u001b[0m\u001b[0;34m)\u001b[0m\u001b[0;34m\u001b[0m\u001b[0m\n\u001b[1;32m     32\u001b[0m     \u001b[0mplt\u001b[0m\u001b[0;34m.\u001b[0m\u001b[0maxis\u001b[0m\u001b[0;34m(\u001b[0m\u001b[0;34m[\u001b[0m\u001b[0;36m0.01\u001b[0m\u001b[0;34m,\u001b[0m \u001b[0;36m100\u001b[0m\u001b[0;34m,\u001b[0m \u001b[0;36m0\u001b[0m\u001b[0;34m,\u001b[0m \u001b[0;36m1\u001b[0m\u001b[0;34m]\u001b[0m\u001b[0;34m)\u001b[0m\u001b[0;34m\u001b[0m\u001b[0m\n",
      "\u001b[0;31mIndexError\u001b[0m: index 5 is out of bounds for axis 1 with size 5"
     ]
    },
    {
     "data": {
      "image/png": "[encoded data removed]",
      "text/plain": [
       "<matplotlib.figure.Figure at 0x7f54df5f1320>"
      ]
     },
     "metadata": {},
     "output_type": "display_data"
    }
   ],
   "source": [
    "\"\"\"\n",
    "from bokeh.plotting import figure, output_notebook, show\n",
    "\n",
    "output_notebook()\n",
    "p = figure(title=\"simple line example\", x_axis_label='accuracy', y_axis_label='C')\n",
    "\n",
    "Cs = list(data.keys())\n",
    "for C, values in data.items():\n",
    "    print(\"hola\", Cs, values)\n",
    "    p.circle(Cs, values, legend=\"Temp.\", line_width=2)\n",
    "\n",
    "# show the results\n",
    "show(p)\n",
    "\"\"\"\n",
    "%matplotlib inline\n",
    "import numpy as np\n",
    "import matplotlib.pyplot as plt\n",
    "\n",
    "Cs = []\n",
    "c_matrix = []\n",
    "for C, values in image_data.items():\n",
    "    print(C, values)\n",
    "    Cs.append(C)\n",
    "    c_matrix.append(values)\n",
    "\n",
    "c_matrix = np.array(c_matrix)\n",
    "\n",
    "for i, c in enumerate(Cs):\n",
    "    #print(i, c, c_matrix[:, i])\n",
    "    plt.plot(Cs, c_matrix[:, i], 'ro')\n",
    "    plt.xscale('log')\n",
    "    plt.axis([0.01, 100, 0, 1])\n",
    "plt.show()"
   ]
  },
  {
   "cell_type": "code",
   "execution_count": 5,
   "metadata": {
    "collapsed": false
   },
   "outputs": [
    {
     "name": "stdout",
     "output_type": "stream",
     "text": [
      "[0.6452261306532663, 0.6485762144053602, 0.6505862646566164, 0.6572864321608041, 0.6402010050251257]\n"
     ]
    }
   ],
   "source": [
    "from utils import calculate_accuracy\n",
    "\n",
    "# load dataset\n",
    "dataset = load_scene_categories('scene_categories')\n",
    "\n",
    "ACC = []\n",
    "for loop in range(5):\n",
    "    train_set, test_set = n_per_class_split(dataset, n=100)\n",
    "\n",
    "    # setup training data\n",
    "    X_train, y_train = split_into_X_y(train_set)\n",
    "    X_test, y_test = split_into_X_y(test_set)\n",
    "    ACC.append(calculate_accuracy(X_train, X_test, y_train, y_test, C=10))\n",
    "print(ACC)\n",
    "    "
   ]
  },
  {
   "cell_type": "code",
   "execution_count": 7,
   "metadata": {
    "collapsed": false
   },
   "outputs": [
    {
     "name": "stdout",
     "output_type": "stream",
     "text": [
      "Mean: 0.64837520938\n",
      "Std: 0.00567579727559\n"
     ]
    }
   ],
   "source": [
    "acc_np = np.array(ACC)\n",
    "print(\"Mean:\", acc_np.mean())\n",
    "print(\"Std:\", acc_np.std())"
   ]
  },
  {
   "cell_type": "code",
   "execution_count": null,
   "metadata": {
    "collapsed": true
   },
   "outputs": [],
   "source": []
  }
 ],
 "metadata": {
  "kernelspec": {
   "display_name": "Python 3",
   "language": "python",
   "name": "python3"
  },
  "language_info": {
   "codemirror_mode": {
    "name": "ipython",
    "version": 3
   },
   "file_extension": ".py",
   "mimetype": "text/x-python",
   "name": "python",
   "nbconvert_exporter": "python",
   "pygments_lexer": "ipython3",
   "version": "3.4.3"
  }
 },
 "nbformat": 4,
 "nbformat_minor": 1
}
